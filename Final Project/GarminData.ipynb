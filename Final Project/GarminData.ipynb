{
  "nbformat": 4,
  "nbformat_minor": 0,
  "metadata": {
    "colab": {
      "name": "GarminData.ipynb",
      "provenance": []
    },
    "kernelspec": {
      "name": "python3",
      "display_name": "Python 3"
    },
    "language_info": {
      "name": "python"
    }
  },
  "cells": [
    {
      "cell_type": "markdown",
      "metadata": {
        "id": "0KwoHtyjHSO8"
      },
      "source": [
        "##Loading the data"
      ]
    },
    {
      "cell_type": "code",
      "metadata": {
        "id": "P6RZtyroE3zK"
      },
      "source": [
        "import pandas as pd\n",
        "import numpy as np\n",
        "import matplotlib.pyplot as plt"
      ],
      "execution_count": 1,
      "outputs": []
    },
    {
      "cell_type": "code",
      "metadata": {
        "colab": {
          "base_uri": "https://localhost:8080/",
          "height": 417
        },
        "id": "JO8Vm1bzFldt",
        "outputId": "e9001cf1-9bf5-4d81-d92a-755a0d547a59"
      },
      "source": [
        "df = pd.read_csv('Garmin_Activities.csv')\n",
        "df.head()"
      ],
      "execution_count": 2,
      "outputs": [
        {
          "output_type": "execute_result",
          "data": {
            "text/html": [
              "<div>\n",
              "<style scoped>\n",
              "    .dataframe tbody tr th:only-of-type {\n",
              "        vertical-align: middle;\n",
              "    }\n",
              "\n",
              "    .dataframe tbody tr th {\n",
              "        vertical-align: top;\n",
              "    }\n",
              "\n",
              "    .dataframe thead th {\n",
              "        text-align: right;\n",
              "    }\n",
              "</style>\n",
              "<table border=\"1\" class=\"dataframe\">\n",
              "  <thead>\n",
              "    <tr style=\"text-align: right;\">\n",
              "      <th></th>\n",
              "      <th>Activity Type</th>\n",
              "      <th>Date</th>\n",
              "      <th>Favorite</th>\n",
              "      <th>Title</th>\n",
              "      <th>Distance</th>\n",
              "      <th>Calories</th>\n",
              "      <th>Time</th>\n",
              "      <th>Avg HR</th>\n",
              "      <th>Max HR</th>\n",
              "      <th>Avg Run Cadence</th>\n",
              "      <th>Max Run Cadence</th>\n",
              "      <th>Avg Pace</th>\n",
              "      <th>Best Pace</th>\n",
              "      <th>Total Ascent</th>\n",
              "      <th>Total Descent</th>\n",
              "      <th>Avg Stride Length</th>\n",
              "      <th>Avg Vertical Ratio</th>\n",
              "      <th>Avg Vertical Oscillation</th>\n",
              "      <th>Training Stress Score®</th>\n",
              "      <th>Grit</th>\n",
              "      <th>Flow</th>\n",
              "      <th>Dive Time</th>\n",
              "      <th>Min Temp</th>\n",
              "      <th>Surface Interval</th>\n",
              "      <th>Decompression</th>\n",
              "      <th>Best Lap Time</th>\n",
              "      <th>Number of Laps</th>\n",
              "      <th>Max Temp</th>\n",
              "      <th>Moving Time</th>\n",
              "      <th>Elapsed Time</th>\n",
              "      <th>Min Elevation</th>\n",
              "      <th>Max Elevation</th>\n",
              "    </tr>\n",
              "  </thead>\n",
              "  <tbody>\n",
              "    <tr>\n",
              "      <th>0</th>\n",
              "      <td>Walking</td>\n",
              "      <td>11/1/2021 14:00</td>\n",
              "      <td>False</td>\n",
              "      <td>Jersey City Walking</td>\n",
              "      <td>3.51</td>\n",
              "      <td>214</td>\n",
              "      <td>0:40:54</td>\n",
              "      <td>118</td>\n",
              "      <td>164</td>\n",
              "      <td>115</td>\n",
              "      <td>149</td>\n",
              "      <td>11:39</td>\n",
              "      <td>8:14</td>\n",
              "      <td>15</td>\n",
              "      <td>42</td>\n",
              "      <td>0.75</td>\n",
              "      <td>0</td>\n",
              "      <td>0</td>\n",
              "      <td>0</td>\n",
              "      <td>0</td>\n",
              "      <td>0</td>\n",
              "      <td>0:00</td>\n",
              "      <td>0</td>\n",
              "      <td>0:00</td>\n",
              "      <td>No</td>\n",
              "      <td>03:17.2</td>\n",
              "      <td>3</td>\n",
              "      <td>0</td>\n",
              "      <td>0:40:31</td>\n",
              "      <td>0:40:54</td>\n",
              "      <td>-66</td>\n",
              "      <td>-28</td>\n",
              "    </tr>\n",
              "    <tr>\n",
              "      <th>1</th>\n",
              "      <td>Walking</td>\n",
              "      <td>10/31/2021 20:21</td>\n",
              "      <td>False</td>\n",
              "      <td>Jersey City Walking</td>\n",
              "      <td>3.16</td>\n",
              "      <td>194</td>\n",
              "      <td>0:34:31</td>\n",
              "      <td>123</td>\n",
              "      <td>177</td>\n",
              "      <td>117</td>\n",
              "      <td>174</td>\n",
              "      <td>10:55</td>\n",
              "      <td>8:38</td>\n",
              "      <td>8</td>\n",
              "      <td>41</td>\n",
              "      <td>0.78</td>\n",
              "      <td>0</td>\n",
              "      <td>0</td>\n",
              "      <td>0</td>\n",
              "      <td>0</td>\n",
              "      <td>0</td>\n",
              "      <td>0:00</td>\n",
              "      <td>0</td>\n",
              "      <td>0:00</td>\n",
              "      <td>No</td>\n",
              "      <td>17:06.2</td>\n",
              "      <td>2</td>\n",
              "      <td>0</td>\n",
              "      <td>0:34:20</td>\n",
              "      <td>0:34:31</td>\n",
              "      <td>-24</td>\n",
              "      <td>15</td>\n",
              "    </tr>\n",
              "    <tr>\n",
              "      <th>2</th>\n",
              "      <td>Walking</td>\n",
              "      <td>10/28/2021 13:25</td>\n",
              "      <td>False</td>\n",
              "      <td>Jersey City Walking</td>\n",
              "      <td>3.50</td>\n",
              "      <td>219</td>\n",
              "      <td>0:41:05</td>\n",
              "      <td>113</td>\n",
              "      <td>155</td>\n",
              "      <td>118</td>\n",
              "      <td>181</td>\n",
              "      <td>11:43</td>\n",
              "      <td>8:23</td>\n",
              "      <td>17</td>\n",
              "      <td>37</td>\n",
              "      <td>0.73</td>\n",
              "      <td>0</td>\n",
              "      <td>0</td>\n",
              "      <td>0</td>\n",
              "      <td>0</td>\n",
              "      <td>0</td>\n",
              "      <td>0:00</td>\n",
              "      <td>0</td>\n",
              "      <td>0:00</td>\n",
              "      <td>No</td>\n",
              "      <td>03:24.9</td>\n",
              "      <td>3</td>\n",
              "      <td>0</td>\n",
              "      <td>0:41:04</td>\n",
              "      <td>0:41:05</td>\n",
              "      <td>-54</td>\n",
              "      <td>-17</td>\n",
              "    </tr>\n",
              "    <tr>\n",
              "      <th>3</th>\n",
              "      <td>Walking</td>\n",
              "      <td>10/27/2021 14:01</td>\n",
              "      <td>False</td>\n",
              "      <td>Jersey City Walking</td>\n",
              "      <td>3.46</td>\n",
              "      <td>221</td>\n",
              "      <td>0:40:59</td>\n",
              "      <td>129</td>\n",
              "      <td>184</td>\n",
              "      <td>116</td>\n",
              "      <td>188</td>\n",
              "      <td>11:50</td>\n",
              "      <td>7:16</td>\n",
              "      <td>10</td>\n",
              "      <td>40</td>\n",
              "      <td>0.73</td>\n",
              "      <td>0</td>\n",
              "      <td>0</td>\n",
              "      <td>0</td>\n",
              "      <td>0</td>\n",
              "      <td>0</td>\n",
              "      <td>0:00</td>\n",
              "      <td>0</td>\n",
              "      <td>0:00</td>\n",
              "      <td>No</td>\n",
              "      <td>02:53.0</td>\n",
              "      <td>3</td>\n",
              "      <td>0</td>\n",
              "      <td>0:40:27</td>\n",
              "      <td>0:40:59</td>\n",
              "      <td>-35</td>\n",
              "      <td>7</td>\n",
              "    </tr>\n",
              "    <tr>\n",
              "      <th>4</th>\n",
              "      <td>Walking</td>\n",
              "      <td>10/25/2021 16:28</td>\n",
              "      <td>False</td>\n",
              "      <td>Hoboken Walking</td>\n",
              "      <td>2.78</td>\n",
              "      <td>187</td>\n",
              "      <td>0:38:58</td>\n",
              "      <td>123</td>\n",
              "      <td>149</td>\n",
              "      <td>106</td>\n",
              "      <td>123</td>\n",
              "      <td>14:00</td>\n",
              "      <td>9:42</td>\n",
              "      <td>34</td>\n",
              "      <td>4</td>\n",
              "      <td>0.68</td>\n",
              "      <td>0</td>\n",
              "      <td>0</td>\n",
              "      <td>0</td>\n",
              "      <td>0</td>\n",
              "      <td>0</td>\n",
              "      <td>0:00</td>\n",
              "      <td>0</td>\n",
              "      <td>0:00</td>\n",
              "      <td>No</td>\n",
              "      <td>17:48.1</td>\n",
              "      <td>2</td>\n",
              "      <td>0</td>\n",
              "      <td>0:37:27</td>\n",
              "      <td>0:38:58</td>\n",
              "      <td>59</td>\n",
              "      <td>94</td>\n",
              "    </tr>\n",
              "  </tbody>\n",
              "</table>\n",
              "</div>"
            ],
            "text/plain": [
              "  Activity Type              Date  ...  Min Elevation Max Elevation\n",
              "0       Walking   11/1/2021 14:00  ...            -66           -28\n",
              "1       Walking  10/31/2021 20:21  ...            -24            15\n",
              "2       Walking  10/28/2021 13:25  ...            -54           -17\n",
              "3       Walking  10/27/2021 14:01  ...            -35             7\n",
              "4       Walking  10/25/2021 16:28  ...             59            94\n",
              "\n",
              "[5 rows x 32 columns]"
            ]
          },
          "metadata": {},
          "execution_count": 2
        }
      ]
    },
    {
      "cell_type": "markdown",
      "metadata": {
        "id": "12EpeKqPHYRF"
      },
      "source": [
        "###DATA CLEANING"
      ]
    },
    {
      "cell_type": "code",
      "metadata": {
        "id": "Yz0Tguq8DgAQ"
      },
      "source": [
        "df = df.drop(['Favorite', 'Title', 'Max HR', 'Number of Laps', 'Best Lap Time', 'Min Elevation', 'Max Elevation', 'Avg HR', 'Total Ascent', 'Total Descent', 'Avg Vertical Ratio', 'Avg Vertical Oscillation', 'Training Stress Score®', 'Grit', 'Flow', 'Dive Time', 'Min Temp', 'Title', 'Surface Interval', 'Decompression', 'Max Temp'], axis = 1)"
      ],
      "execution_count": 3,
      "outputs": []
    },
    {
      "cell_type": "code",
      "metadata": {
        "colab": {
          "base_uri": "https://localhost:8080/",
          "height": 327
        },
        "id": "VUy-Kgbmzfdx",
        "outputId": "b38d810f-dfb4-4ee7-d481-eece453ebc53"
      },
      "source": [
        "df.head()"
      ],
      "execution_count": 4,
      "outputs": [
        {
          "output_type": "execute_result",
          "data": {
            "text/html": [
              "<div>\n",
              "<style scoped>\n",
              "    .dataframe tbody tr th:only-of-type {\n",
              "        vertical-align: middle;\n",
              "    }\n",
              "\n",
              "    .dataframe tbody tr th {\n",
              "        vertical-align: top;\n",
              "    }\n",
              "\n",
              "    .dataframe thead th {\n",
              "        text-align: right;\n",
              "    }\n",
              "</style>\n",
              "<table border=\"1\" class=\"dataframe\">\n",
              "  <thead>\n",
              "    <tr style=\"text-align: right;\">\n",
              "      <th></th>\n",
              "      <th>Activity Type</th>\n",
              "      <th>Date</th>\n",
              "      <th>Distance</th>\n",
              "      <th>Calories</th>\n",
              "      <th>Time</th>\n",
              "      <th>Avg Run Cadence</th>\n",
              "      <th>Max Run Cadence</th>\n",
              "      <th>Avg Pace</th>\n",
              "      <th>Best Pace</th>\n",
              "      <th>Avg Stride Length</th>\n",
              "      <th>Moving Time</th>\n",
              "      <th>Elapsed Time</th>\n",
              "    </tr>\n",
              "  </thead>\n",
              "  <tbody>\n",
              "    <tr>\n",
              "      <th>0</th>\n",
              "      <td>Walking</td>\n",
              "      <td>11/1/2021 14:00</td>\n",
              "      <td>3.51</td>\n",
              "      <td>214</td>\n",
              "      <td>0:40:54</td>\n",
              "      <td>115</td>\n",
              "      <td>149</td>\n",
              "      <td>11:39</td>\n",
              "      <td>8:14</td>\n",
              "      <td>0.75</td>\n",
              "      <td>0:40:31</td>\n",
              "      <td>0:40:54</td>\n",
              "    </tr>\n",
              "    <tr>\n",
              "      <th>1</th>\n",
              "      <td>Walking</td>\n",
              "      <td>10/31/2021 20:21</td>\n",
              "      <td>3.16</td>\n",
              "      <td>194</td>\n",
              "      <td>0:34:31</td>\n",
              "      <td>117</td>\n",
              "      <td>174</td>\n",
              "      <td>10:55</td>\n",
              "      <td>8:38</td>\n",
              "      <td>0.78</td>\n",
              "      <td>0:34:20</td>\n",
              "      <td>0:34:31</td>\n",
              "    </tr>\n",
              "    <tr>\n",
              "      <th>2</th>\n",
              "      <td>Walking</td>\n",
              "      <td>10/28/2021 13:25</td>\n",
              "      <td>3.50</td>\n",
              "      <td>219</td>\n",
              "      <td>0:41:05</td>\n",
              "      <td>118</td>\n",
              "      <td>181</td>\n",
              "      <td>11:43</td>\n",
              "      <td>8:23</td>\n",
              "      <td>0.73</td>\n",
              "      <td>0:41:04</td>\n",
              "      <td>0:41:05</td>\n",
              "    </tr>\n",
              "    <tr>\n",
              "      <th>3</th>\n",
              "      <td>Walking</td>\n",
              "      <td>10/27/2021 14:01</td>\n",
              "      <td>3.46</td>\n",
              "      <td>221</td>\n",
              "      <td>0:40:59</td>\n",
              "      <td>116</td>\n",
              "      <td>188</td>\n",
              "      <td>11:50</td>\n",
              "      <td>7:16</td>\n",
              "      <td>0.73</td>\n",
              "      <td>0:40:27</td>\n",
              "      <td>0:40:59</td>\n",
              "    </tr>\n",
              "    <tr>\n",
              "      <th>4</th>\n",
              "      <td>Walking</td>\n",
              "      <td>10/25/2021 16:28</td>\n",
              "      <td>2.78</td>\n",
              "      <td>187</td>\n",
              "      <td>0:38:58</td>\n",
              "      <td>106</td>\n",
              "      <td>123</td>\n",
              "      <td>14:00</td>\n",
              "      <td>9:42</td>\n",
              "      <td>0.68</td>\n",
              "      <td>0:37:27</td>\n",
              "      <td>0:38:58</td>\n",
              "    </tr>\n",
              "  </tbody>\n",
              "</table>\n",
              "</div>"
            ],
            "text/plain": [
              "  Activity Type              Date  ...  Moving Time  Elapsed Time\n",
              "0       Walking   11/1/2021 14:00  ...      0:40:31       0:40:54\n",
              "1       Walking  10/31/2021 20:21  ...      0:34:20       0:34:31\n",
              "2       Walking  10/28/2021 13:25  ...      0:41:04       0:41:05\n",
              "3       Walking  10/27/2021 14:01  ...      0:40:27       0:40:59\n",
              "4       Walking  10/25/2021 16:28  ...      0:37:27       0:38:58\n",
              "\n",
              "[5 rows x 12 columns]"
            ]
          },
          "metadata": {},
          "execution_count": 4
        }
      ]
    },
    {
      "cell_type": "code",
      "metadata": {
        "id": "kY5mT4B3cnA0"
      },
      "source": [
        "df['Moving Time'] = df['Moving Time'].astype('str')\n",
        "df['Moving Time'] = df['Moving Time'].str.replace(':', ',')\n",
        "df['Date'] = pd.to_datetime(df['Date'])\n",
        "df['Just Date'] = df['Date'].dt.date"
      ],
      "execution_count": 5,
      "outputs": []
    },
    {
      "cell_type": "code",
      "metadata": {
        "colab": {
          "base_uri": "https://localhost:8080/"
        },
        "id": "YfWLapPYc6vD",
        "outputId": "ace15405-e6ab-4928-fad6-68e27575f1cf"
      },
      "source": [
        "ftr = [3600, 60, 1]\n",
        "i = 0\n",
        "df['Seconds'] = np.nan\n",
        "for t in df['Moving Time']:\n",
        "  df['Seconds'][i] = sum([a*b for a,b in zip(ftr, map(int, t.split(',')))])\n",
        "  i=i+1\n",
        "df['Minutes'] = df['Seconds']/60"
      ],
      "execution_count": 6,
      "outputs": [
        {
          "output_type": "stream",
          "name": "stderr",
          "text": [
            "/usr/local/lib/python3.7/dist-packages/ipykernel_launcher.py:5: SettingWithCopyWarning: \n",
            "A value is trying to be set on a copy of a slice from a DataFrame\n",
            "\n",
            "See the caveats in the documentation: https://pandas.pydata.org/pandas-docs/stable/user_guide/indexing.html#returning-a-view-versus-a-copy\n",
            "  \"\"\"\n"
          ]
        }
      ]
    },
    {
      "cell_type": "code",
      "metadata": {
        "colab": {
          "base_uri": "https://localhost:8080/"
        },
        "id": "Gywq5QdGlLqo",
        "outputId": "7c3fd1e9-95c2-4e58-c9ec-15fc73777e77"
      },
      "source": [
        "ftr = [60, 1]\n",
        "i = 0\n",
        "df['Pace'] = np.nan\n",
        "for t in df['Avg Pace']:\n",
        "  df['Pace'][i] = sum([a*b for a,b in zip(ftr, map(float, t.split(':')))])\n",
        "  i=i+1\n",
        "df['Pace'] = df['Pace']/60"
      ],
      "execution_count": 7,
      "outputs": [
        {
          "output_type": "stream",
          "name": "stderr",
          "text": [
            "/usr/local/lib/python3.7/dist-packages/ipykernel_launcher.py:5: SettingWithCopyWarning: \n",
            "A value is trying to be set on a copy of a slice from a DataFrame\n",
            "\n",
            "See the caveats in the documentation: https://pandas.pydata.org/pandas-docs/stable/user_guide/indexing.html#returning-a-view-versus-a-copy\n",
            "  \"\"\"\n"
          ]
        }
      ]
    },
    {
      "cell_type": "code",
      "metadata": {
        "colab": {
          "base_uri": "https://localhost:8080/"
        },
        "id": "7oLEdb26sdyD",
        "outputId": "0bfccc5a-5160-4f75-ac5a-9289cf544ae2"
      },
      "source": [
        "df.shape"
      ],
      "execution_count": 8,
      "outputs": [
        {
          "output_type": "execute_result",
          "data": {
            "text/plain": [
              "(280, 16)"
            ]
          },
          "metadata": {},
          "execution_count": 8
        }
      ]
    },
    {
      "cell_type": "code",
      "metadata": {
        "colab": {
          "base_uri": "https://localhost:8080/"
        },
        "id": "RurJCDnJsgrU",
        "outputId": "128a18b5-db6c-42e8-c87d-8858033c1737"
      },
      "source": [
        "df = df[df.Minutes > 10]\n",
        "print(df.shape)"
      ],
      "execution_count": 9,
      "outputs": [
        {
          "output_type": "stream",
          "name": "stdout",
          "text": [
            "(250, 16)\n"
          ]
        }
      ]
    },
    {
      "cell_type": "code",
      "metadata": {
        "colab": {
          "base_uri": "https://localhost:8080/"
        },
        "id": "KPB1Dp9RWye8",
        "outputId": "95aeb086-9241-4014-aba0-9865b1a6c600"
      },
      "source": [
        "df['Calories burned per minute'] = df['Calories']/df['Minutes']\n",
        "df['Calories burned per minute']"
      ],
      "execution_count": 10,
      "outputs": [
        {
          "output_type": "stream",
          "name": "stderr",
          "text": [
            "/usr/local/lib/python3.7/dist-packages/ipykernel_launcher.py:1: SettingWithCopyWarning: \n",
            "A value is trying to be set on a copy of a slice from a DataFrame.\n",
            "Try using .loc[row_indexer,col_indexer] = value instead\n",
            "\n",
            "See the caveats in the documentation: https://pandas.pydata.org/pandas-docs/stable/user_guide/indexing.html#returning-a-view-versus-a-copy\n",
            "  \"\"\"Entry point for launching an IPython kernel.\n"
          ]
        },
        {
          "output_type": "execute_result",
          "data": {
            "text/plain": [
              "0      5.281777\n",
              "1      5.650485\n",
              "2      5.332792\n",
              "3      5.463535\n",
              "4      4.993324\n",
              "         ...   \n",
              "275    5.360738\n",
              "276    5.818182\n",
              "277    5.631068\n",
              "278    5.833333\n",
              "279    6.292264\n",
              "Name: Calories burned per minute, Length: 250, dtype: float64"
            ]
          },
          "metadata": {},
          "execution_count": 10
        }
      ]
    },
    {
      "cell_type": "markdown",
      "metadata": {
        "id": "6ieoSLOXpc0d"
      },
      "source": [
        "##Rating criteria -\n",
        "\n",
        "I will define the rating criteria for activities as we analyze the data plots for certain fields like Calorie Burn Rate, Moving Time of the activity, Average Pace, and Average Stride Length. The rating for the activities will be out of a total of **5**, but the importance of each field will vary according to the type of the activity."
      ]
    },
    {
      "cell_type": "markdown",
      "metadata": {
        "id": "UwwywbaQHdH1"
      },
      "source": [
        "###SPLITTING THE ACTIVITIES INTO WALKING AND RUNNING"
      ]
    },
    {
      "cell_type": "code",
      "metadata": {
        "colab": {
          "base_uri": "https://localhost:8080/"
        },
        "id": "eWjtYyVPGIsI",
        "outputId": "7c740f00-81ee-42f0-95ac-1470caf28fcf"
      },
      "source": [
        "walk_data = df.loc[df['Activity Type'] == 'Walking']\n",
        "\n",
        "walk_data.shape"
      ],
      "execution_count": 11,
      "outputs": [
        {
          "output_type": "execute_result",
          "data": {
            "text/plain": [
              "(226, 17)"
            ]
          },
          "metadata": {},
          "execution_count": 11
        }
      ]
    },
    {
      "cell_type": "code",
      "metadata": {
        "colab": {
          "base_uri": "https://localhost:8080/"
        },
        "id": "lKRdAUfzGura",
        "outputId": "d94f8949-c202-4990-d87d-3bdc85397472"
      },
      "source": [
        "run_data = df.loc[df['Activity Type'] == 'Running']\n",
        "run_data.shape"
      ],
      "execution_count": 12,
      "outputs": [
        {
          "output_type": "execute_result",
          "data": {
            "text/plain": [
              "(24, 17)"
            ]
          },
          "metadata": {},
          "execution_count": 12
        }
      ]
    },
    {
      "cell_type": "markdown",
      "metadata": {
        "id": "-NDbQLxqHkhb"
      },
      "source": [
        "##WALKING ACTIVITY ANALYSIS"
      ]
    },
    {
      "cell_type": "code",
      "metadata": {
        "colab": {
          "base_uri": "https://localhost:8080/",
          "height": 279
        },
        "id": "_WkRbApP--7R",
        "outputId": "b546d2a1-1fc1-4360-fb78-a0de101713a1"
      },
      "source": [
        "x = walk_data['Pace']\n",
        "walk_data.plot(kind='scatter', x='Pace', y='Calories burned per minute', color='red')\n",
        "plt.xticks(np.arange(min(x)-1, max(x), 3.0))\n",
        "plt.show()"
      ],
      "execution_count": 13,
      "outputs": [
        {
          "output_type": "display_data",
          "data": {
            "image/png": "[encoded data removed]",
            "text/plain": [
              "<Figure size 432x288 with 1 Axes>"
            ]
          },
          "metadata": {
            "needs_background": "light"
          }
        }
      ]
    },
    {
      "cell_type": "code",
      "metadata": {
        "colab": {
          "base_uri": "https://localhost:8080/",
          "height": 279
        },
        "id": "KXZDPzewmlRw",
        "outputId": "f5e3adce-03f6-4cd9-d9b1-89d964c560e0"
      },
      "source": [
        "x = walk_data['Minutes']\n",
        "walk_data.plot(kind='scatter', x='Minutes', y='Calories burned per minute', color='red')\n",
        "plt.xticks(np.arange(min(x)-1, max(x), 10.0))\n",
        "plt.show()"
      ],
      "execution_count": 14,
      "outputs": [
        {
          "output_type": "display_data",
          "data": {
            "image/png": "[encoded data removed]",
            "text/plain": [
              "<Figure size 432x288 with 1 Axes>"
            ]
          },
          "metadata": {
            "needs_background": "light"
          }
        }
      ]
    },
    {
      "cell_type": "code",
      "metadata": {
        "colab": {
          "base_uri": "https://localhost:8080/",
          "height": 279
        },
        "id": "We15orUsrx2V",
        "outputId": "20fcbc44-8ecc-48fa-835f-037ddf112e35"
      },
      "source": [
        "x = walk_data['Minutes']\n",
        "walk_data.plot(kind='scatter', x='Minutes', y='Pace', color='red')\n",
        "plt.xticks(np.arange(min(x)-1, max(x), 10.0))\n",
        "plt.show()"
      ],
      "execution_count": 15,
      "outputs": [
        {
          "output_type": "display_data",
          "data": {
            "image/png": "[encoded data removed]",
            "text/plain": [
              "<Figure size 432x288 with 1 Axes>"
            ]
          },
          "metadata": {
            "needs_background": "light"
          }
        }
      ]
    },
    {
      "cell_type": "markdown",
      "metadata": {
        "id": "qk5fLTwbryuv"
      },
      "source": [
        "When it comes to walking, Moving Time and Calorie Burn Rate are more important than Average Pace, and Stride Length has no real importance. So we will assign 2 points to Calorie Burn Rate, 2 points to Moving Time, and 1 point to Average Pace.\n",
        "\n",
        "\n",
        "From the graphs, we can see that -\n",
        "\n",
        "1) The calorie burn rate is higher for faster pace.\n",
        "\n",
        "2) The calorie burn rate is slightly higher for short walks.\n",
        "\n",
        "3) The longer the activity gets, the slower the pace.\n",
        "\n",
        "The last two points can be justified by the tiredness of longer activities."
      ]
    },
    {
      "cell_type": "code",
      "metadata": {
        "colab": {
          "base_uri": "https://localhost:8080/"
        },
        "id": "QUgozDgoegBv",
        "outputId": "b7f5e2e7-e4ca-4ddf-b4b3-4e9084b0bba9"
      },
      "source": [
        "walk_data['Rating'] = 0.0"
      ],
      "execution_count": 16,
      "outputs": [
        {
          "output_type": "stream",
          "name": "stderr",
          "text": [
            "/usr/local/lib/python3.7/dist-packages/ipykernel_launcher.py:1: SettingWithCopyWarning: \n",
            "A value is trying to be set on a copy of a slice from a DataFrame.\n",
            "Try using .loc[row_indexer,col_indexer] = value instead\n",
            "\n",
            "See the caveats in the documentation: https://pandas.pydata.org/pandas-docs/stable/user_guide/indexing.html#returning-a-view-versus-a-copy\n",
            "  \"\"\"Entry point for launching an IPython kernel.\n"
          ]
        }
      ]
    },
    {
      "cell_type": "code",
      "metadata": {
        "colab": {
          "base_uri": "https://localhost:8080/",
          "height": 452
        },
        "id": "677kZkfrfnnY",
        "outputId": "236f7d51-217d-4501-935a-1521b6ca7ef8"
      },
      "source": [
        "walk_data.head()"
      ],
      "execution_count": 17,
      "outputs": [
        {
          "output_type": "execute_result",
          "data": {
            "text/html": [
              "<div>\n",
              "<style scoped>\n",
              "    .dataframe tbody tr th:only-of-type {\n",
              "        vertical-align: middle;\n",
              "    }\n",
              "\n",
              "    .dataframe tbody tr th {\n",
              "        vertical-align: top;\n",
              "    }\n",
              "\n",
              "    .dataframe thead th {\n",
              "        text-align: right;\n",
              "    }\n",
              "</style>\n",
              "<table border=\"1\" class=\"dataframe\">\n",
              "  <thead>\n",
              "    <tr style=\"text-align: right;\">\n",
              "      <th></th>\n",
              "      <th>Activity Type</th>\n",
              "      <th>Date</th>\n",
              "      <th>Distance</th>\n",
              "      <th>Calories</th>\n",
              "      <th>Time</th>\n",
              "      <th>Avg Run Cadence</th>\n",
              "      <th>Max Run Cadence</th>\n",
              "      <th>Avg Pace</th>\n",
              "      <th>Best Pace</th>\n",
              "      <th>Avg Stride Length</th>\n",
              "      <th>Moving Time</th>\n",
              "      <th>Elapsed Time</th>\n",
              "      <th>Just Date</th>\n",
              "      <th>Seconds</th>\n",
              "      <th>Minutes</th>\n",
              "      <th>Pace</th>\n",
              "      <th>Calories burned per minute</th>\n",
              "      <th>Rating</th>\n",
              "    </tr>\n",
              "  </thead>\n",
              "  <tbody>\n",
              "    <tr>\n",
              "      <th>0</th>\n",
              "      <td>Walking</td>\n",
              "      <td>2021-11-01 14:00:00</td>\n",
              "      <td>3.51</td>\n",
              "      <td>214</td>\n",
              "      <td>0:40:54</td>\n",
              "      <td>115</td>\n",
              "      <td>149</td>\n",
              "      <td>11:39</td>\n",
              "      <td>8:14</td>\n",
              "      <td>0.75</td>\n",
              "      <td>0,40,31</td>\n",
              "      <td>0:40:54</td>\n",
              "      <td>2021-11-01</td>\n",
              "      <td>2431.0</td>\n",
              "      <td>40.516667</td>\n",
              "      <td>11.650000</td>\n",
              "      <td>5.281777</td>\n",
              "      <td>0.0</td>\n",
              "    </tr>\n",
              "    <tr>\n",
              "      <th>1</th>\n",
              "      <td>Walking</td>\n",
              "      <td>2021-10-31 20:21:00</td>\n",
              "      <td>3.16</td>\n",
              "      <td>194</td>\n",
              "      <td>0:34:31</td>\n",
              "      <td>117</td>\n",
              "      <td>174</td>\n",
              "      <td>10:55</td>\n",
              "      <td>8:38</td>\n",
              "      <td>0.78</td>\n",
              "      <td>0,34,20</td>\n",
              "      <td>0:34:31</td>\n",
              "      <td>2021-10-31</td>\n",
              "      <td>2060.0</td>\n",
              "      <td>34.333333</td>\n",
              "      <td>10.916667</td>\n",
              "      <td>5.650485</td>\n",
              "      <td>0.0</td>\n",
              "    </tr>\n",
              "    <tr>\n",
              "      <th>2</th>\n",
              "      <td>Walking</td>\n",
              "      <td>2021-10-28 13:25:00</td>\n",
              "      <td>3.50</td>\n",
              "      <td>219</td>\n",
              "      <td>0:41:05</td>\n",
              "      <td>118</td>\n",
              "      <td>181</td>\n",
              "      <td>11:43</td>\n",
              "      <td>8:23</td>\n",
              "      <td>0.73</td>\n",
              "      <td>0,41,04</td>\n",
              "      <td>0:41:05</td>\n",
              "      <td>2021-10-28</td>\n",
              "      <td>2464.0</td>\n",
              "      <td>41.066667</td>\n",
              "      <td>11.716667</td>\n",
              "      <td>5.332792</td>\n",
              "      <td>0.0</td>\n",
              "    </tr>\n",
              "    <tr>\n",
              "      <th>3</th>\n",
              "      <td>Walking</td>\n",
              "      <td>2021-10-27 14:01:00</td>\n",
              "      <td>3.46</td>\n",
              "      <td>221</td>\n",
              "      <td>0:40:59</td>\n",
              "      <td>116</td>\n",
              "      <td>188</td>\n",
              "      <td>11:50</td>\n",
              "      <td>7:16</td>\n",
              "      <td>0.73</td>\n",
              "      <td>0,40,27</td>\n",
              "      <td>0:40:59</td>\n",
              "      <td>2021-10-27</td>\n",
              "      <td>2427.0</td>\n",
              "      <td>40.450000</td>\n",
              "      <td>11.833333</td>\n",
              "      <td>5.463535</td>\n",
              "      <td>0.0</td>\n",
              "    </tr>\n",
              "    <tr>\n",
              "      <th>4</th>\n",
              "      <td>Walking</td>\n",
              "      <td>2021-10-25 16:28:00</td>\n",
              "      <td>2.78</td>\n",
              "      <td>187</td>\n",
              "      <td>0:38:58</td>\n",
              "      <td>106</td>\n",
              "      <td>123</td>\n",
              "      <td>14:00</td>\n",
              "      <td>9:42</td>\n",
              "      <td>0.68</td>\n",
              "      <td>0,37,27</td>\n",
              "      <td>0:38:58</td>\n",
              "      <td>2021-10-25</td>\n",
              "      <td>2247.0</td>\n",
              "      <td>37.450000</td>\n",
              "      <td>14.000000</td>\n",
              "      <td>4.993324</td>\n",
              "      <td>0.0</td>\n",
              "    </tr>\n",
              "  </tbody>\n",
              "</table>\n",
              "</div>"
            ],
            "text/plain": [
              "  Activity Type                Date  ...  Calories burned per minute  Rating\n",
              "0       Walking 2021-11-01 14:00:00  ...                    5.281777     0.0\n",
              "1       Walking 2021-10-31 20:21:00  ...                    5.650485     0.0\n",
              "2       Walking 2021-10-28 13:25:00  ...                    5.332792     0.0\n",
              "3       Walking 2021-10-27 14:01:00  ...                    5.463535     0.0\n",
              "4       Walking 2021-10-25 16:28:00  ...                    4.993324     0.0\n",
              "\n",
              "[5 rows x 18 columns]"
            ]
          },
          "metadata": {},
          "execution_count": 17
        }
      ]
    },
    {
      "cell_type": "code",
      "metadata": {
        "colab": {
          "base_uri": "https://localhost:8080/"
        },
        "id": "ETeeI5NAd3fz",
        "outputId": "035e5195-a043-4845-8e5c-c7b7644c245c"
      },
      "source": [
        "bestpace = walk_data.Pace.min()\n",
        "worstpace = walk_data.Pace.max()\n",
        "pacediff = worstpace - bestpace\n",
        "print(bestpace, worstpace, pacediff)\n",
        "walk_data['Rating'] = walk_data['Rating'] + 1.0 - ((walk_data['Pace'] - bestpace)/pacediff)"
      ],
      "execution_count": 18,
      "outputs": [
        {
          "output_type": "stream",
          "name": "stdout",
          "text": [
            "8.25 17.1 8.850000000000001\n"
          ]
        },
        {
          "output_type": "stream",
          "name": "stderr",
          "text": [
            "/usr/local/lib/python3.7/dist-packages/ipykernel_launcher.py:5: SettingWithCopyWarning: \n",
            "A value is trying to be set on a copy of a slice from a DataFrame.\n",
            "Try using .loc[row_indexer,col_indexer] = value instead\n",
            "\n",
            "See the caveats in the documentation: https://pandas.pydata.org/pandas-docs/stable/user_guide/indexing.html#returning-a-view-versus-a-copy\n",
            "  \"\"\"\n"
          ]
        }
      ]
    },
    {
      "cell_type": "code",
      "metadata": {
        "colab": {
          "base_uri": "https://localhost:8080/"
        },
        "id": "KR06cTMAfG0t",
        "outputId": "1de1ad57-67a2-47d3-eefc-c575af146868"
      },
      "source": [
        "bestcalorieburnrate = walk_data['Calories burned per minute'].max()\n",
        "worstcalorieburnrate = walk_data['Calories burned per minute'].min()\n",
        "burndiff = bestcalorieburnrate - worstcalorieburnrate\n",
        "walk_data['Rating'] = walk_data['Rating'] + 2 * ((walk_data['Calories burned per minute'] - worstcalorieburnrate)/burndiff)"
      ],
      "execution_count": 19,
      "outputs": [
        {
          "output_type": "stream",
          "name": "stderr",
          "text": [
            "/usr/local/lib/python3.7/dist-packages/ipykernel_launcher.py:4: SettingWithCopyWarning: \n",
            "A value is trying to be set on a copy of a slice from a DataFrame.\n",
            "Try using .loc[row_indexer,col_indexer] = value instead\n",
            "\n",
            "See the caveats in the documentation: https://pandas.pydata.org/pandas-docs/stable/user_guide/indexing.html#returning-a-view-versus-a-copy\n",
            "  after removing the cwd from sys.path.\n"
          ]
        }
      ]
    },
    {
      "cell_type": "code",
      "metadata": {
        "colab": {
          "base_uri": "https://localhost:8080/"
        },
        "id": "egV0mRr5yZYE",
        "outputId": "05bc5c1d-757a-45da-81af-d8e074679322"
      },
      "source": [
        "bestmovetime = walk_data.Minutes.max()\n",
        "worstmovetime = walk_data.Minutes.min()\n",
        "movetimediff = bestmovetime - worstmovetime\n",
        "walk_data['Rating'] = walk_data['Rating'] + 2 * ((walk_data['Minutes'] - worstmovetime)/movetimediff)"
      ],
      "execution_count": 20,
      "outputs": [
        {
          "output_type": "stream",
          "name": "stderr",
          "text": [
            "/usr/local/lib/python3.7/dist-packages/ipykernel_launcher.py:4: SettingWithCopyWarning: \n",
            "A value is trying to be set on a copy of a slice from a DataFrame.\n",
            "Try using .loc[row_indexer,col_indexer] = value instead\n",
            "\n",
            "See the caveats in the documentation: https://pandas.pydata.org/pandas-docs/stable/user_guide/indexing.html#returning-a-view-versus-a-copy\n",
            "  after removing the cwd from sys.path.\n"
          ]
        }
      ]
    },
    {
      "cell_type": "code",
      "metadata": {
        "colab": {
          "base_uri": "https://localhost:8080/",
          "height": 452
        },
        "id": "jPRyk-t-gca5",
        "outputId": "3ca6d906-63af-4882-91c7-d020f020f11d"
      },
      "source": [
        "walk_data = walk_data.sort_values('Rating')\n",
        "walk_data.tail()"
      ],
      "execution_count": 21,
      "outputs": [
        {
          "output_type": "execute_result",
          "data": {
            "text/html": [
              "<div>\n",
              "<style scoped>\n",
              "    .dataframe tbody tr th:only-of-type {\n",
              "        vertical-align: middle;\n",
              "    }\n",
              "\n",
              "    .dataframe tbody tr th {\n",
              "        vertical-align: top;\n",
              "    }\n",
              "\n",
              "    .dataframe thead th {\n",
              "        text-align: right;\n",
              "    }\n",
              "</style>\n",
              "<table border=\"1\" class=\"dataframe\">\n",
              "  <thead>\n",
              "    <tr style=\"text-align: right;\">\n",
              "      <th></th>\n",
              "      <th>Activity Type</th>\n",
              "      <th>Date</th>\n",
              "      <th>Distance</th>\n",
              "      <th>Calories</th>\n",
              "      <th>Time</th>\n",
              "      <th>Avg Run Cadence</th>\n",
              "      <th>Max Run Cadence</th>\n",
              "      <th>Avg Pace</th>\n",
              "      <th>Best Pace</th>\n",
              "      <th>Avg Stride Length</th>\n",
              "      <th>Moving Time</th>\n",
              "      <th>Elapsed Time</th>\n",
              "      <th>Just Date</th>\n",
              "      <th>Seconds</th>\n",
              "      <th>Minutes</th>\n",
              "      <th>Pace</th>\n",
              "      <th>Calories burned per minute</th>\n",
              "      <th>Rating</th>\n",
              "    </tr>\n",
              "  </thead>\n",
              "  <tbody>\n",
              "    <tr>\n",
              "      <th>166</th>\n",
              "      <td>Walking</td>\n",
              "      <td>2021-05-07 07:24:00</td>\n",
              "      <td>5.45</td>\n",
              "      <td>390</td>\n",
              "      <td>0:55:04</td>\n",
              "      <td>119</td>\n",
              "      <td>132</td>\n",
              "      <td>10:06</td>\n",
              "      <td>8:23</td>\n",
              "      <td>0.83</td>\n",
              "      <td>0,54,10</td>\n",
              "      <td>0:56:03</td>\n",
              "      <td>2021-05-07</td>\n",
              "      <td>3250.0</td>\n",
              "      <td>54.166667</td>\n",
              "      <td>10.100000</td>\n",
              "      <td>7.200000</td>\n",
              "      <td>2.692497</td>\n",
              "    </tr>\n",
              "    <tr>\n",
              "      <th>260</th>\n",
              "      <td>Walking</td>\n",
              "      <td>2020-06-13 06:01:00</td>\n",
              "      <td>5.28</td>\n",
              "      <td>379</td>\n",
              "      <td>0:51:54</td>\n",
              "      <td>124</td>\n",
              "      <td>245</td>\n",
              "      <td>9:50</td>\n",
              "      <td>4:40</td>\n",
              "      <td>0.82</td>\n",
              "      <td>0,50,38</td>\n",
              "      <td>0:58:16</td>\n",
              "      <td>2020-06-13</td>\n",
              "      <td>3038.0</td>\n",
              "      <td>50.633333</td>\n",
              "      <td>9.833333</td>\n",
              "      <td>7.485188</td>\n",
              "      <td>2.758497</td>\n",
              "    </tr>\n",
              "    <tr>\n",
              "      <th>263</th>\n",
              "      <td>Walking</td>\n",
              "      <td>2020-06-09 07:17:00</td>\n",
              "      <td>4.22</td>\n",
              "      <td>342</td>\n",
              "      <td>0:41:16</td>\n",
              "      <td>123</td>\n",
              "      <td>172</td>\n",
              "      <td>9:47</td>\n",
              "      <td>5:15</td>\n",
              "      <td>0.83</td>\n",
              "      <td>0,40,18</td>\n",
              "      <td>0:42:21</td>\n",
              "      <td>2020-06-09</td>\n",
              "      <td>2418.0</td>\n",
              "      <td>40.300000</td>\n",
              "      <td>9.783333</td>\n",
              "      <td>8.486352</td>\n",
              "      <td>2.933578</td>\n",
              "    </tr>\n",
              "    <tr>\n",
              "      <th>145</th>\n",
              "      <td>Walking</td>\n",
              "      <td>2021-05-16 07:06:00</td>\n",
              "      <td>8.06</td>\n",
              "      <td>537</td>\n",
              "      <td>1:22:49</td>\n",
              "      <td>119</td>\n",
              "      <td>161</td>\n",
              "      <td>10:17</td>\n",
              "      <td>5:02</td>\n",
              "      <td>0.82</td>\n",
              "      <td>1,22,10</td>\n",
              "      <td>1:44:34</td>\n",
              "      <td>2021-05-16</td>\n",
              "      <td>4930.0</td>\n",
              "      <td>82.166667</td>\n",
              "      <td>10.283333</td>\n",
              "      <td>6.535497</td>\n",
              "      <td>3.003628</td>\n",
              "    </tr>\n",
              "    <tr>\n",
              "      <th>262</th>\n",
              "      <td>Walking</td>\n",
              "      <td>2020-06-11 18:41:00</td>\n",
              "      <td>2.88</td>\n",
              "      <td>251</td>\n",
              "      <td>0:25:53</td>\n",
              "      <td>130</td>\n",
              "      <td>168</td>\n",
              "      <td>8:59</td>\n",
              "      <td>5:48</td>\n",
              "      <td>0.86</td>\n",
              "      <td>0,25,28</td>\n",
              "      <td>0:35:37</td>\n",
              "      <td>2020-06-11</td>\n",
              "      <td>1528.0</td>\n",
              "      <td>25.466667</td>\n",
              "      <td>8.983333</td>\n",
              "      <td>9.856021</td>\n",
              "      <td>3.241130</td>\n",
              "    </tr>\n",
              "  </tbody>\n",
              "</table>\n",
              "</div>"
            ],
            "text/plain": [
              "    Activity Type                Date  ...  Calories burned per minute    Rating\n",
              "166       Walking 2021-05-07 07:24:00  ...                    7.200000  2.692497\n",
              "260       Walking 2020-06-13 06:01:00  ...                    7.485188  2.758497\n",
              "263       Walking 2020-06-09 07:17:00  ...                    8.486352  2.933578\n",
              "145       Walking 2021-05-16 07:06:00  ...                    6.535497  3.003628\n",
              "262       Walking 2020-06-11 18:41:00  ...                    9.856021  3.241130\n",
              "\n",
              "[5 rows x 18 columns]"
            ]
          },
          "metadata": {},
          "execution_count": 21
        }
      ]
    },
    {
      "cell_type": "markdown",
      "metadata": {
        "id": "7-pLWVw4U-eh"
      },
      "source": [
        "Looking at the best 5 activities, our scoring scale was a little too harsh for the walking activities. So, I decided to rescale them by rating the best activity as 5."
      ]
    },
    {
      "cell_type": "code",
      "metadata": {
        "id": "XbWc9KoCzN-6"
      },
      "source": [
        "walk_data['Rating'] = walk_data['Rating'] * 5 / walk_data.Rating.max()"
      ],
      "execution_count": 22,
      "outputs": []
    },
    {
      "cell_type": "markdown",
      "metadata": {
        "id": "mMMdbQbIVuq0"
      },
      "source": [
        "The top 5 walking activities (from #5 to #1) are :"
      ]
    },
    {
      "cell_type": "code",
      "metadata": {
        "colab": {
          "base_uri": "https://localhost:8080/",
          "height": 452
        },
        "id": "xf50n6VpVrDW",
        "outputId": "1a096f61-1f08-4b8a-ecc1-27b5aac74dd8"
      },
      "source": [
        "walk_data.tail()"
      ],
      "execution_count": 23,
      "outputs": [
        {
          "output_type": "execute_result",
          "data": {
            "text/html": [
              "<div>\n",
              "<style scoped>\n",
              "    .dataframe tbody tr th:only-of-type {\n",
              "        vertical-align: middle;\n",
              "    }\n",
              "\n",
              "    .dataframe tbody tr th {\n",
              "        vertical-align: top;\n",
              "    }\n",
              "\n",
              "    .dataframe thead th {\n",
              "        text-align: right;\n",
              "    }\n",
              "</style>\n",
              "<table border=\"1\" class=\"dataframe\">\n",
              "  <thead>\n",
              "    <tr style=\"text-align: right;\">\n",
              "      <th></th>\n",
              "      <th>Activity Type</th>\n",
              "      <th>Date</th>\n",
              "      <th>Distance</th>\n",
              "      <th>Calories</th>\n",
              "      <th>Time</th>\n",
              "      <th>Avg Run Cadence</th>\n",
              "      <th>Max Run Cadence</th>\n",
              "      <th>Avg Pace</th>\n",
              "      <th>Best Pace</th>\n",
              "      <th>Avg Stride Length</th>\n",
              "      <th>Moving Time</th>\n",
              "      <th>Elapsed Time</th>\n",
              "      <th>Just Date</th>\n",
              "      <th>Seconds</th>\n",
              "      <th>Minutes</th>\n",
              "      <th>Pace</th>\n",
              "      <th>Calories burned per minute</th>\n",
              "      <th>Rating</th>\n",
              "    </tr>\n",
              "  </thead>\n",
              "  <tbody>\n",
              "    <tr>\n",
              "      <th>166</th>\n",
              "      <td>Walking</td>\n",
              "      <td>2021-05-07 07:24:00</td>\n",
              "      <td>5.45</td>\n",
              "      <td>390</td>\n",
              "      <td>0:55:04</td>\n",
              "      <td>119</td>\n",
              "      <td>132</td>\n",
              "      <td>10:06</td>\n",
              "      <td>8:23</td>\n",
              "      <td>0.83</td>\n",
              "      <td>0,54,10</td>\n",
              "      <td>0:56:03</td>\n",
              "      <td>2021-05-07</td>\n",
              "      <td>3250.0</td>\n",
              "      <td>54.166667</td>\n",
              "      <td>10.100000</td>\n",
              "      <td>7.200000</td>\n",
              "      <td>4.153639</td>\n",
              "    </tr>\n",
              "    <tr>\n",
              "      <th>260</th>\n",
              "      <td>Walking</td>\n",
              "      <td>2020-06-13 06:01:00</td>\n",
              "      <td>5.28</td>\n",
              "      <td>379</td>\n",
              "      <td>0:51:54</td>\n",
              "      <td>124</td>\n",
              "      <td>245</td>\n",
              "      <td>9:50</td>\n",
              "      <td>4:40</td>\n",
              "      <td>0.82</td>\n",
              "      <td>0,50,38</td>\n",
              "      <td>0:58:16</td>\n",
              "      <td>2020-06-13</td>\n",
              "      <td>3038.0</td>\n",
              "      <td>50.633333</td>\n",
              "      <td>9.833333</td>\n",
              "      <td>7.485188</td>\n",
              "      <td>4.255455</td>\n",
              "    </tr>\n",
              "    <tr>\n",
              "      <th>263</th>\n",
              "      <td>Walking</td>\n",
              "      <td>2020-06-09 07:17:00</td>\n",
              "      <td>4.22</td>\n",
              "      <td>342</td>\n",
              "      <td>0:41:16</td>\n",
              "      <td>123</td>\n",
              "      <td>172</td>\n",
              "      <td>9:47</td>\n",
              "      <td>5:15</td>\n",
              "      <td>0.83</td>\n",
              "      <td>0,40,18</td>\n",
              "      <td>0:42:21</td>\n",
              "      <td>2020-06-09</td>\n",
              "      <td>2418.0</td>\n",
              "      <td>40.300000</td>\n",
              "      <td>9.783333</td>\n",
              "      <td>8.486352</td>\n",
              "      <td>4.525548</td>\n",
              "    </tr>\n",
              "    <tr>\n",
              "      <th>145</th>\n",
              "      <td>Walking</td>\n",
              "      <td>2021-05-16 07:06:00</td>\n",
              "      <td>8.06</td>\n",
              "      <td>537</td>\n",
              "      <td>1:22:49</td>\n",
              "      <td>119</td>\n",
              "      <td>161</td>\n",
              "      <td>10:17</td>\n",
              "      <td>5:02</td>\n",
              "      <td>0.82</td>\n",
              "      <td>1,22,10</td>\n",
              "      <td>1:44:34</td>\n",
              "      <td>2021-05-16</td>\n",
              "      <td>4930.0</td>\n",
              "      <td>82.166667</td>\n",
              "      <td>10.283333</td>\n",
              "      <td>6.535497</td>\n",
              "      <td>4.633612</td>\n",
              "    </tr>\n",
              "    <tr>\n",
              "      <th>262</th>\n",
              "      <td>Walking</td>\n",
              "      <td>2020-06-11 18:41:00</td>\n",
              "      <td>2.88</td>\n",
              "      <td>251</td>\n",
              "      <td>0:25:53</td>\n",
              "      <td>130</td>\n",
              "      <td>168</td>\n",
              "      <td>8:59</td>\n",
              "      <td>5:48</td>\n",
              "      <td>0.86</td>\n",
              "      <td>0,25,28</td>\n",
              "      <td>0:35:37</td>\n",
              "      <td>2020-06-11</td>\n",
              "      <td>1528.0</td>\n",
              "      <td>25.466667</td>\n",
              "      <td>8.983333</td>\n",
              "      <td>9.856021</td>\n",
              "      <td>5.000000</td>\n",
              "    </tr>\n",
              "  </tbody>\n",
              "</table>\n",
              "</div>"
            ],
            "text/plain": [
              "    Activity Type                Date  ...  Calories burned per minute    Rating\n",
              "166       Walking 2021-05-07 07:24:00  ...                    7.200000  4.153639\n",
              "260       Walking 2020-06-13 06:01:00  ...                    7.485188  4.255455\n",
              "263       Walking 2020-06-09 07:17:00  ...                    8.486352  4.525548\n",
              "145       Walking 2021-05-16 07:06:00  ...                    6.535497  4.633612\n",
              "262       Walking 2020-06-11 18:41:00  ...                    9.856021  5.000000\n",
              "\n",
              "[5 rows x 18 columns]"
            ]
          },
          "metadata": {},
          "execution_count": 23
        }
      ]
    },
    {
      "cell_type": "code",
      "metadata": {
        "colab": {
          "base_uri": "https://localhost:8080/",
          "height": 279
        },
        "id": "pjanLix-x1mj",
        "outputId": "6ac3b5d7-82a2-40d1-da65-01a094f78d99"
      },
      "source": [
        "x = walk_data['Just Date']\n",
        "walk_data.plot(kind='scatter', x='Just Date', y='Rating', color='red')\n",
        "\n",
        "plt.show()"
      ],
      "execution_count": 41,
      "outputs": [
        {
          "output_type": "display_data",
          "data": {
            "image/png": "[encoded data removed]",
            "text/plain": [
              "<Figure size 432x288 with 1 Axes>"
            ]
          },
          "metadata": {
            "needs_background": "light"
          }
        }
      ]
    },
    {
      "cell_type": "markdown",
      "metadata": {
        "id": "DSTZJyEjWC0h"
      },
      "source": [
        "##RUNNING ACTIVITY ANALYSIS"
      ]
    },
    {
      "cell_type": "code",
      "metadata": {
        "colab": {
          "base_uri": "https://localhost:8080/",
          "height": 279
        },
        "id": "i0dwUQWKWC0i",
        "outputId": "5d8e2a1d-67fe-43eb-fe13-4cd9234c8a8e"
      },
      "source": [
        "x = run_data['Pace']\n",
        "run_data.plot(kind='scatter', x='Pace', y='Calories burned per minute', color='red')\n",
        "plt.xticks(np.arange(min(x), max(x), 0.2))\n",
        "plt.show()"
      ],
      "execution_count": 24,
      "outputs": [
        {
          "output_type": "display_data",
          "data": {
            "image/png": "[encoded data removed]",
            "text/plain": [
              "<Figure size 432x288 with 1 Axes>"
            ]
          },
          "metadata": {
            "needs_background": "light"
          }
        }
      ]
    },
    {
      "cell_type": "code",
      "metadata": {
        "colab": {
          "base_uri": "https://localhost:8080/",
          "height": 279
        },
        "id": "fSfXoi59WC0i",
        "outputId": "fc7a8f13-3b95-49b1-8588-0985364ca3b0"
      },
      "source": [
        "x = run_data['Minutes']\n",
        "run_data.plot(kind='scatter', x='Minutes', y='Calories burned per minute', color='red')\n",
        "plt.xticks(np.arange(min(x)-1, max(x), 10.0))\n",
        "plt.show()"
      ],
      "execution_count": 25,
      "outputs": [
        {
          "output_type": "display_data",
          "data": {
            "image/png": "[encoded data removed]",
            "text/plain": [
              "<Figure size 432x288 with 1 Axes>"
            ]
          },
          "metadata": {
            "needs_background": "light"
          }
        }
      ]
    },
    {
      "cell_type": "code",
      "metadata": {
        "colab": {
          "base_uri": "https://localhost:8080/",
          "height": 279
        },
        "id": "9TwhmxrBWC0i",
        "outputId": "10050ebc-1bde-4da8-8167-c8e078afe06d"
      },
      "source": [
        "x = run_data['Minutes']\n",
        "run_data.plot(kind='scatter', x='Minutes', y='Pace', color='red')\n",
        "plt.xticks(np.arange(min(x)-1, max(x), 10.0))\n",
        "plt.show()"
      ],
      "execution_count": 26,
      "outputs": [
        {
          "output_type": "display_data",
          "data": {
            "image/png": "[encoded data removed]",
            "text/plain": [
              "<Figure size 432x288 with 1 Axes>"
            ]
          },
          "metadata": {
            "needs_background": "light"
          }
        }
      ]
    },
    {
      "cell_type": "code",
      "metadata": {
        "colab": {
          "base_uri": "https://localhost:8080/",
          "height": 279
        },
        "id": "E6aJLf9es9Dx",
        "outputId": "504438a5-0506-4112-a48a-5f0b08822585"
      },
      "source": [
        "x = run_data['Pace']\n",
        "run_data.plot(kind='scatter', x='Pace', y='Avg Stride Length', color='red')\n",
        "plt.xticks(np.arange(min(x), max(x), 0.2))\n",
        "plt.show()"
      ],
      "execution_count": 27,
      "outputs": [
        {
          "output_type": "display_data",
          "data": {
            "image/png": "[encoded data removed]",
            "text/plain": [
              "<Figure size 432x288 with 1 Axes>"
            ]
          },
          "metadata": {
            "needs_background": "light"
          }
        }
      ]
    },
    {
      "cell_type": "code",
      "metadata": {
        "colab": {
          "base_uri": "https://localhost:8080/",
          "height": 403
        },
        "id": "P-7NO7yyt8Ye",
        "outputId": "52133512-6b0e-4a78-e0be-f3b50a7a23d6"
      },
      "source": [
        "run_data['Avg Run Cadence'] = run_data['Avg Run Cadence'].astype(float)\n",
        "x = run_data['Pace']\n",
        "run_data.plot(kind='scatter', x='Pace', y='Avg Run Cadence', color='red')\n",
        "plt.xticks(np.arange(min(x), max(x), 0.2))\n",
        "plt.show()"
      ],
      "execution_count": 28,
      "outputs": [
        {
          "output_type": "stream",
          "name": "stderr",
          "text": [
            "/usr/local/lib/python3.7/dist-packages/ipykernel_launcher.py:1: SettingWithCopyWarning: \n",
            "A value is trying to be set on a copy of a slice from a DataFrame.\n",
            "Try using .loc[row_indexer,col_indexer] = value instead\n",
            "\n",
            "See the caveats in the documentation: https://pandas.pydata.org/pandas-docs/stable/user_guide/indexing.html#returning-a-view-versus-a-copy\n",
            "  \"\"\"Entry point for launching an IPython kernel.\n"
          ]
        },
        {
          "output_type": "display_data",
          "data": {
            "image/png": "[encoded data removed]",
            "text/plain": [
              "<Figure size 432x288 with 1 Axes>"
            ]
          },
          "metadata": {
            "needs_background": "light"
          }
        }
      ]
    },
    {
      "cell_type": "markdown",
      "metadata": {
        "id": "8wyx71OXWC0j"
      },
      "source": [
        "When it comes to running, Stride Length, Average Pace, Moving Time, and Cadence, all are significant things from the perspective of a runner. The Calorie Burn Rate, while essential to someone looking to lose weight, is not really a high priority for a runner. We will assign 1.5 points each to Cadence and Average Pace, and 1 point each to Stride Length and Moving Time.\n",
        "\n",
        "The essential takeaways from the graphs for running are - \n",
        "\n",
        "1) Better stride length usually corresponds to faster pace,\n",
        "\n",
        "2) Faster pace leads to a generally higher calorie burn rate.\n",
        "\n",
        "3) Higher the Cadence, better the pace."
      ]
    },
    {
      "cell_type": "code",
      "metadata": {
        "colab": {
          "base_uri": "https://localhost:8080/"
        },
        "id": "cIWt_fngWC0j",
        "outputId": "9562ccbd-ef9d-40f9-acd2-64f0d6f497e5"
      },
      "source": [
        "run_data['Rating'] = 0.0"
      ],
      "execution_count": 29,
      "outputs": [
        {
          "output_type": "stream",
          "name": "stderr",
          "text": [
            "/usr/local/lib/python3.7/dist-packages/ipykernel_launcher.py:1: SettingWithCopyWarning: \n",
            "A value is trying to be set on a copy of a slice from a DataFrame.\n",
            "Try using .loc[row_indexer,col_indexer] = value instead\n",
            "\n",
            "See the caveats in the documentation: https://pandas.pydata.org/pandas-docs/stable/user_guide/indexing.html#returning-a-view-versus-a-copy\n",
            "  \"\"\"Entry point for launching an IPython kernel.\n"
          ]
        }
      ]
    },
    {
      "cell_type": "code",
      "metadata": {
        "colab": {
          "base_uri": "https://localhost:8080/",
          "height": 452
        },
        "id": "Ftjtn-GoWC0j",
        "outputId": "aa51a0a7-eed2-4dfa-8b77-32726d30be80"
      },
      "source": [
        "run_data.head()"
      ],
      "execution_count": 30,
      "outputs": [
        {
          "output_type": "execute_result",
          "data": {
            "text/html": [
              "<div>\n",
              "<style scoped>\n",
              "    .dataframe tbody tr th:only-of-type {\n",
              "        vertical-align: middle;\n",
              "    }\n",
              "\n",
              "    .dataframe tbody tr th {\n",
              "        vertical-align: top;\n",
              "    }\n",
              "\n",
              "    .dataframe thead th {\n",
              "        text-align: right;\n",
              "    }\n",
              "</style>\n",
              "<table border=\"1\" class=\"dataframe\">\n",
              "  <thead>\n",
              "    <tr style=\"text-align: right;\">\n",
              "      <th></th>\n",
              "      <th>Activity Type</th>\n",
              "      <th>Date</th>\n",
              "      <th>Distance</th>\n",
              "      <th>Calories</th>\n",
              "      <th>Time</th>\n",
              "      <th>Avg Run Cadence</th>\n",
              "      <th>Max Run Cadence</th>\n",
              "      <th>Avg Pace</th>\n",
              "      <th>Best Pace</th>\n",
              "      <th>Avg Stride Length</th>\n",
              "      <th>Moving Time</th>\n",
              "      <th>Elapsed Time</th>\n",
              "      <th>Just Date</th>\n",
              "      <th>Seconds</th>\n",
              "      <th>Minutes</th>\n",
              "      <th>Pace</th>\n",
              "      <th>Calories burned per minute</th>\n",
              "      <th>Rating</th>\n",
              "    </tr>\n",
              "  </thead>\n",
              "  <tbody>\n",
              "    <tr>\n",
              "      <th>41</th>\n",
              "      <td>Running</td>\n",
              "      <td>2021-09-26 05:58:00</td>\n",
              "      <td>3.28</td>\n",
              "      <td>214</td>\n",
              "      <td>0:27:28</td>\n",
              "      <td>143.0</td>\n",
              "      <td>192</td>\n",
              "      <td>8:22</td>\n",
              "      <td>6:17</td>\n",
              "      <td>0.83</td>\n",
              "      <td>0,26,55</td>\n",
              "      <td>0:27:28</td>\n",
              "      <td>2021-09-26</td>\n",
              "      <td>1615.0</td>\n",
              "      <td>26.916667</td>\n",
              "      <td>8.366667</td>\n",
              "      <td>7.950464</td>\n",
              "      <td>0.0</td>\n",
              "    </tr>\n",
              "    <tr>\n",
              "      <th>86</th>\n",
              "      <td>Running</td>\n",
              "      <td>2021-07-11 08:17:00</td>\n",
              "      <td>2.23</td>\n",
              "      <td>154</td>\n",
              "      <td>0:17:34</td>\n",
              "      <td>152.0</td>\n",
              "      <td>169</td>\n",
              "      <td>7:53</td>\n",
              "      <td>6:17</td>\n",
              "      <td>0.83</td>\n",
              "      <td>0,17,33</td>\n",
              "      <td>0:17:34</td>\n",
              "      <td>2021-07-11</td>\n",
              "      <td>1053.0</td>\n",
              "      <td>17.550000</td>\n",
              "      <td>7.883333</td>\n",
              "      <td>8.774929</td>\n",
              "      <td>0.0</td>\n",
              "    </tr>\n",
              "    <tr>\n",
              "      <th>94</th>\n",
              "      <td>Running</td>\n",
              "      <td>2021-07-06 08:14:00</td>\n",
              "      <td>3.24</td>\n",
              "      <td>240</td>\n",
              "      <td>0:26:02</td>\n",
              "      <td>146.0</td>\n",
              "      <td>167</td>\n",
              "      <td>8:01</td>\n",
              "      <td>5:36</td>\n",
              "      <td>0.86</td>\n",
              "      <td>0,25,54</td>\n",
              "      <td>0:26:02</td>\n",
              "      <td>2021-07-06</td>\n",
              "      <td>1554.0</td>\n",
              "      <td>25.900000</td>\n",
              "      <td>8.016667</td>\n",
              "      <td>9.266409</td>\n",
              "      <td>0.0</td>\n",
              "    </tr>\n",
              "    <tr>\n",
              "      <th>95</th>\n",
              "      <td>Running</td>\n",
              "      <td>2021-07-06 07:12:00</td>\n",
              "      <td>3.26</td>\n",
              "      <td>231</td>\n",
              "      <td>0:26:10</td>\n",
              "      <td>146.0</td>\n",
              "      <td>167</td>\n",
              "      <td>8:02</td>\n",
              "      <td>6:21</td>\n",
              "      <td>0.85</td>\n",
              "      <td>0,25,10</td>\n",
              "      <td>0:26:10</td>\n",
              "      <td>2021-07-06</td>\n",
              "      <td>1510.0</td>\n",
              "      <td>25.166667</td>\n",
              "      <td>8.033333</td>\n",
              "      <td>9.178808</td>\n",
              "      <td>0.0</td>\n",
              "    </tr>\n",
              "    <tr>\n",
              "      <th>98</th>\n",
              "      <td>Running</td>\n",
              "      <td>2021-07-04 08:03:00</td>\n",
              "      <td>4.08</td>\n",
              "      <td>299</td>\n",
              "      <td>0:34:09</td>\n",
              "      <td>144.0</td>\n",
              "      <td>169</td>\n",
              "      <td>8:22</td>\n",
              "      <td>6:16</td>\n",
              "      <td>0.83</td>\n",
              "      <td>0,34,07</td>\n",
              "      <td>0:34:09</td>\n",
              "      <td>2021-07-04</td>\n",
              "      <td>2047.0</td>\n",
              "      <td>34.116667</td>\n",
              "      <td>8.366667</td>\n",
              "      <td>8.764045</td>\n",
              "      <td>0.0</td>\n",
              "    </tr>\n",
              "  </tbody>\n",
              "</table>\n",
              "</div>"
            ],
            "text/plain": [
              "   Activity Type                Date  ...  Calories burned per minute  Rating\n",
              "41       Running 2021-09-26 05:58:00  ...                    7.950464     0.0\n",
              "86       Running 2021-07-11 08:17:00  ...                    8.774929     0.0\n",
              "94       Running 2021-07-06 08:14:00  ...                    9.266409     0.0\n",
              "95       Running 2021-07-06 07:12:00  ...                    9.178808     0.0\n",
              "98       Running 2021-07-04 08:03:00  ...                    8.764045     0.0\n",
              "\n",
              "[5 rows x 18 columns]"
            ]
          },
          "metadata": {},
          "execution_count": 30
        }
      ]
    },
    {
      "cell_type": "code",
      "metadata": {
        "colab": {
          "base_uri": "https://localhost:8080/"
        },
        "id": "lvrllKyeWC0j",
        "outputId": "d92b1959-209a-4ff9-d1b9-8e7fa75f7565"
      },
      "source": [
        "bestpace = run_data.Pace.min()\n",
        "worstpace = run_data.Pace.max()\n",
        "pacediff = worstpace - bestpace\n",
        "#print(bestpace, worstpace, pacediff)\n",
        "run_data['Rating'] = run_data['Rating'] + (1 - ((run_data['Pace'] - bestpace)/pacediff)) * 1.5"
      ],
      "execution_count": 31,
      "outputs": [
        {
          "output_type": "stream",
          "name": "stderr",
          "text": [
            "/usr/local/lib/python3.7/dist-packages/ipykernel_launcher.py:5: SettingWithCopyWarning: \n",
            "A value is trying to be set on a copy of a slice from a DataFrame.\n",
            "Try using .loc[row_indexer,col_indexer] = value instead\n",
            "\n",
            "See the caveats in the documentation: https://pandas.pydata.org/pandas-docs/stable/user_guide/indexing.html#returning-a-view-versus-a-copy\n",
            "  \"\"\"\n"
          ]
        }
      ]
    },
    {
      "cell_type": "code",
      "metadata": {
        "colab": {
          "base_uri": "https://localhost:8080/"
        },
        "id": "t-kkruW_WC0k",
        "outputId": "33444add-85c9-4c65-d0af-926afcee1831"
      },
      "source": [
        "bestcadence = run_data['Avg Run Cadence'].max()\n",
        "worstcadence = run_data['Avg Run Cadence'].min()\n",
        "cadencediff = bestcadence - worstcadence\n",
        "run_data['Rating'] = run_data['Rating'] + 1.5 * ((run_data['Avg Run Cadence'] - worstcadence)/cadencediff)"
      ],
      "execution_count": 32,
      "outputs": [
        {
          "output_type": "stream",
          "name": "stderr",
          "text": [
            "/usr/local/lib/python3.7/dist-packages/ipykernel_launcher.py:4: SettingWithCopyWarning: \n",
            "A value is trying to be set on a copy of a slice from a DataFrame.\n",
            "Try using .loc[row_indexer,col_indexer] = value instead\n",
            "\n",
            "See the caveats in the documentation: https://pandas.pydata.org/pandas-docs/stable/user_guide/indexing.html#returning-a-view-versus-a-copy\n",
            "  after removing the cwd from sys.path.\n"
          ]
        }
      ]
    },
    {
      "cell_type": "code",
      "metadata": {
        "colab": {
          "base_uri": "https://localhost:8080/"
        },
        "id": "uyQgwa2aWC0k",
        "outputId": "df65cb60-06eb-4755-dc0e-253631ebb5ed"
      },
      "source": [
        "bestmovetime = run_data.Minutes.max()\n",
        "worstmovetime = run_data.Minutes.min()\n",
        "movetimediff = bestmovetime - worstmovetime\n",
        "run_data['Rating'] = run_data['Rating'] + ((run_data['Minutes'] - worstmovetime)/movetimediff)"
      ],
      "execution_count": 33,
      "outputs": [
        {
          "output_type": "stream",
          "name": "stderr",
          "text": [
            "/usr/local/lib/python3.7/dist-packages/ipykernel_launcher.py:4: SettingWithCopyWarning: \n",
            "A value is trying to be set on a copy of a slice from a DataFrame.\n",
            "Try using .loc[row_indexer,col_indexer] = value instead\n",
            "\n",
            "See the caveats in the documentation: https://pandas.pydata.org/pandas-docs/stable/user_guide/indexing.html#returning-a-view-versus-a-copy\n",
            "  after removing the cwd from sys.path.\n"
          ]
        }
      ]
    },
    {
      "cell_type": "code",
      "metadata": {
        "colab": {
          "base_uri": "https://localhost:8080/"
        },
        "id": "b3UA2y0wwxTx",
        "outputId": "8dc41783-7394-4b2c-e44c-58a6356000c6"
      },
      "source": [
        "beststride = run_data['Avg Stride Length'].max()\n",
        "worststride = run_data['Avg Stride Length'].min()\n",
        "stridediff = beststride - worststride\n",
        "run_data['Rating'] = run_data['Rating'] + ((run_data['Avg Stride Length'] - worststride)/stridediff)"
      ],
      "execution_count": 34,
      "outputs": [
        {
          "output_type": "stream",
          "name": "stderr",
          "text": [
            "/usr/local/lib/python3.7/dist-packages/ipykernel_launcher.py:4: SettingWithCopyWarning: \n",
            "A value is trying to be set on a copy of a slice from a DataFrame.\n",
            "Try using .loc[row_indexer,col_indexer] = value instead\n",
            "\n",
            "See the caveats in the documentation: https://pandas.pydata.org/pandas-docs/stable/user_guide/indexing.html#returning-a-view-versus-a-copy\n",
            "  after removing the cwd from sys.path.\n"
          ]
        }
      ]
    },
    {
      "cell_type": "code",
      "metadata": {
        "colab": {
          "base_uri": "https://localhost:8080/",
          "height": 452
        },
        "id": "cIuLz9t-WC0k",
        "outputId": "9cd9100f-6762-4b84-b990-808f47101076"
      },
      "source": [
        "run_data = run_data.sort_values('Rating')\n",
        "run_data.tail()"
      ],
      "execution_count": 35,
      "outputs": [
        {
          "output_type": "execute_result",
          "data": {
            "text/html": [
              "<div>\n",
              "<style scoped>\n",
              "    .dataframe tbody tr th:only-of-type {\n",
              "        vertical-align: middle;\n",
              "    }\n",
              "\n",
              "    .dataframe tbody tr th {\n",
              "        vertical-align: top;\n",
              "    }\n",
              "\n",
              "    .dataframe thead th {\n",
              "        text-align: right;\n",
              "    }\n",
              "</style>\n",
              "<table border=\"1\" class=\"dataframe\">\n",
              "  <thead>\n",
              "    <tr style=\"text-align: right;\">\n",
              "      <th></th>\n",
              "      <th>Activity Type</th>\n",
              "      <th>Date</th>\n",
              "      <th>Distance</th>\n",
              "      <th>Calories</th>\n",
              "      <th>Time</th>\n",
              "      <th>Avg Run Cadence</th>\n",
              "      <th>Max Run Cadence</th>\n",
              "      <th>Avg Pace</th>\n",
              "      <th>Best Pace</th>\n",
              "      <th>Avg Stride Length</th>\n",
              "      <th>Moving Time</th>\n",
              "      <th>Elapsed Time</th>\n",
              "      <th>Just Date</th>\n",
              "      <th>Seconds</th>\n",
              "      <th>Minutes</th>\n",
              "      <th>Pace</th>\n",
              "      <th>Calories burned per minute</th>\n",
              "      <th>Rating</th>\n",
              "    </tr>\n",
              "  </thead>\n",
              "  <tbody>\n",
              "    <tr>\n",
              "      <th>225</th>\n",
              "      <td>Running</td>\n",
              "      <td>2021-03-23 06:08:00</td>\n",
              "      <td>5.01</td>\n",
              "      <td>258</td>\n",
              "      <td>0:40:26</td>\n",
              "      <td>134.0</td>\n",
              "      <td>244</td>\n",
              "      <td>8:05</td>\n",
              "      <td>4:37</td>\n",
              "      <td>0.92</td>\n",
              "      <td>0,39,05</td>\n",
              "      <td>0:46:34</td>\n",
              "      <td>2021-03-23</td>\n",
              "      <td>2345.0</td>\n",
              "      <td>39.083333</td>\n",
              "      <td>8.083333</td>\n",
              "      <td>6.601279</td>\n",
              "      <td>3.252248</td>\n",
              "    </tr>\n",
              "    <tr>\n",
              "      <th>245</th>\n",
              "      <td>Running</td>\n",
              "      <td>2020-07-12 05:58:00</td>\n",
              "      <td>6.69</td>\n",
              "      <td>467</td>\n",
              "      <td>0:54:45</td>\n",
              "      <td>134.0</td>\n",
              "      <td>245</td>\n",
              "      <td>8:11</td>\n",
              "      <td>4:05</td>\n",
              "      <td>0.91</td>\n",
              "      <td>0,54,40</td>\n",
              "      <td>0:57:45</td>\n",
              "      <td>2020-07-12</td>\n",
              "      <td>3280.0</td>\n",
              "      <td>54.666667</td>\n",
              "      <td>8.183333</td>\n",
              "      <td>8.542683</td>\n",
              "      <td>3.255849</td>\n",
              "    </tr>\n",
              "    <tr>\n",
              "      <th>252</th>\n",
              "      <td>Running</td>\n",
              "      <td>2020-06-21 06:11:00</td>\n",
              "      <td>5.01</td>\n",
              "      <td>352</td>\n",
              "      <td>0:40:09</td>\n",
              "      <td>140.0</td>\n",
              "      <td>179</td>\n",
              "      <td>8:01</td>\n",
              "      <td>5:04</td>\n",
              "      <td>0.89</td>\n",
              "      <td>0,39,50</td>\n",
              "      <td>0:43:25</td>\n",
              "      <td>2020-06-21</td>\n",
              "      <td>2390.0</td>\n",
              "      <td>39.833333</td>\n",
              "      <td>8.016667</td>\n",
              "      <td>8.836820</td>\n",
              "      <td>3.277969</td>\n",
              "    </tr>\n",
              "    <tr>\n",
              "      <th>249</th>\n",
              "      <td>Running</td>\n",
              "      <td>2020-06-28 06:15:00</td>\n",
              "      <td>5.02</td>\n",
              "      <td>342</td>\n",
              "      <td>0:39:33</td>\n",
              "      <td>141.0</td>\n",
              "      <td>178</td>\n",
              "      <td>7:53</td>\n",
              "      <td>4:54</td>\n",
              "      <td>0.90</td>\n",
              "      <td>0,39,19</td>\n",
              "      <td>0:41:02</td>\n",
              "      <td>2020-06-28</td>\n",
              "      <td>2359.0</td>\n",
              "      <td>39.316667</td>\n",
              "      <td>7.883333</td>\n",
              "      <td>8.698601</td>\n",
              "      <td>3.563630</td>\n",
              "    </tr>\n",
              "    <tr>\n",
              "      <th>196</th>\n",
              "      <td>Running</td>\n",
              "      <td>2021-04-17 06:03:00</td>\n",
              "      <td>5.05</td>\n",
              "      <td>300</td>\n",
              "      <td>0:39:47</td>\n",
              "      <td>138.0</td>\n",
              "      <td>241</td>\n",
              "      <td>7:53</td>\n",
              "      <td>4:39</td>\n",
              "      <td>0.92</td>\n",
              "      <td>0,39,31</td>\n",
              "      <td>0:43:14</td>\n",
              "      <td>2021-04-17</td>\n",
              "      <td>2371.0</td>\n",
              "      <td>39.516667</td>\n",
              "      <td>7.883333</td>\n",
              "      <td>7.591733</td>\n",
              "      <td>3.647997</td>\n",
              "    </tr>\n",
              "  </tbody>\n",
              "</table>\n",
              "</div>"
            ],
            "text/plain": [
              "    Activity Type                Date  ...  Calories burned per minute    Rating\n",
              "225       Running 2021-03-23 06:08:00  ...                    6.601279  3.252248\n",
              "245       Running 2020-07-12 05:58:00  ...                    8.542683  3.255849\n",
              "252       Running 2020-06-21 06:11:00  ...                    8.836820  3.277969\n",
              "249       Running 2020-06-28 06:15:00  ...                    8.698601  3.563630\n",
              "196       Running 2021-04-17 06:03:00  ...                    7.591733  3.647997\n",
              "\n",
              "[5 rows x 18 columns]"
            ]
          },
          "metadata": {},
          "execution_count": 35
        }
      ]
    },
    {
      "cell_type": "markdown",
      "metadata": {
        "id": "4I0KQWOPWC0k"
      },
      "source": [
        "Looking at the best 5 activities, our scoring scale was a little too harsh for the running activities as well. So, I decided to rescale them by rating the best activity as 5."
      ]
    },
    {
      "cell_type": "code",
      "metadata": {
        "id": "-bvSWnrIWC0k"
      },
      "source": [
        "run_data['Rating'] = run_data['Rating'] * 5 / run_data.Rating.max()"
      ],
      "execution_count": 39,
      "outputs": []
    },
    {
      "cell_type": "markdown",
      "metadata": {
        "id": "p6RWUMKYWC0l"
      },
      "source": [
        "The top 5 walking activities (from #5 to #1) are :"
      ]
    },
    {
      "cell_type": "code",
      "metadata": {
        "colab": {
          "base_uri": "https://localhost:8080/",
          "height": 452
        },
        "id": "r0J1FhabWC0l",
        "outputId": "8754115f-93ad-4012-e20d-9bb2f326921f"
      },
      "source": [
        "run_data.tail()"
      ],
      "execution_count": 40,
      "outputs": [
        {
          "output_type": "execute_result",
          "data": {
            "text/html": [
              "<div>\n",
              "<style scoped>\n",
              "    .dataframe tbody tr th:only-of-type {\n",
              "        vertical-align: middle;\n",
              "    }\n",
              "\n",
              "    .dataframe tbody tr th {\n",
              "        vertical-align: top;\n",
              "    }\n",
              "\n",
              "    .dataframe thead th {\n",
              "        text-align: right;\n",
              "    }\n",
              "</style>\n",
              "<table border=\"1\" class=\"dataframe\">\n",
              "  <thead>\n",
              "    <tr style=\"text-align: right;\">\n",
              "      <th></th>\n",
              "      <th>Activity Type</th>\n",
              "      <th>Date</th>\n",
              "      <th>Distance</th>\n",
              "      <th>Calories</th>\n",
              "      <th>Time</th>\n",
              "      <th>Avg Run Cadence</th>\n",
              "      <th>Max Run Cadence</th>\n",
              "      <th>Avg Pace</th>\n",
              "      <th>Best Pace</th>\n",
              "      <th>Avg Stride Length</th>\n",
              "      <th>Moving Time</th>\n",
              "      <th>Elapsed Time</th>\n",
              "      <th>Just Date</th>\n",
              "      <th>Seconds</th>\n",
              "      <th>Minutes</th>\n",
              "      <th>Pace</th>\n",
              "      <th>Calories burned per minute</th>\n",
              "      <th>Rating</th>\n",
              "    </tr>\n",
              "  </thead>\n",
              "  <tbody>\n",
              "    <tr>\n",
              "      <th>225</th>\n",
              "      <td>Running</td>\n",
              "      <td>2021-03-23 06:08:00</td>\n",
              "      <td>5.01</td>\n",
              "      <td>258</td>\n",
              "      <td>0:40:26</td>\n",
              "      <td>134.0</td>\n",
              "      <td>244</td>\n",
              "      <td>8:05</td>\n",
              "      <td>4:37</td>\n",
              "      <td>0.92</td>\n",
              "      <td>0,39,05</td>\n",
              "      <td>0:46:34</td>\n",
              "      <td>2021-03-23</td>\n",
              "      <td>2345.0</td>\n",
              "      <td>39.083333</td>\n",
              "      <td>8.083333</td>\n",
              "      <td>6.601279</td>\n",
              "      <td>4.457580</td>\n",
              "    </tr>\n",
              "    <tr>\n",
              "      <th>245</th>\n",
              "      <td>Running</td>\n",
              "      <td>2020-07-12 05:58:00</td>\n",
              "      <td>6.69</td>\n",
              "      <td>467</td>\n",
              "      <td>0:54:45</td>\n",
              "      <td>134.0</td>\n",
              "      <td>245</td>\n",
              "      <td>8:11</td>\n",
              "      <td>4:05</td>\n",
              "      <td>0.91</td>\n",
              "      <td>0,54,40</td>\n",
              "      <td>0:57:45</td>\n",
              "      <td>2020-07-12</td>\n",
              "      <td>3280.0</td>\n",
              "      <td>54.666667</td>\n",
              "      <td>8.183333</td>\n",
              "      <td>8.542683</td>\n",
              "      <td>4.462516</td>\n",
              "    </tr>\n",
              "    <tr>\n",
              "      <th>252</th>\n",
              "      <td>Running</td>\n",
              "      <td>2020-06-21 06:11:00</td>\n",
              "      <td>5.01</td>\n",
              "      <td>352</td>\n",
              "      <td>0:40:09</td>\n",
              "      <td>140.0</td>\n",
              "      <td>179</td>\n",
              "      <td>8:01</td>\n",
              "      <td>5:04</td>\n",
              "      <td>0.89</td>\n",
              "      <td>0,39,50</td>\n",
              "      <td>0:43:25</td>\n",
              "      <td>2020-06-21</td>\n",
              "      <td>2390.0</td>\n",
              "      <td>39.833333</td>\n",
              "      <td>8.016667</td>\n",
              "      <td>8.836820</td>\n",
              "      <td>4.492833</td>\n",
              "    </tr>\n",
              "    <tr>\n",
              "      <th>249</th>\n",
              "      <td>Running</td>\n",
              "      <td>2020-06-28 06:15:00</td>\n",
              "      <td>5.02</td>\n",
              "      <td>342</td>\n",
              "      <td>0:39:33</td>\n",
              "      <td>141.0</td>\n",
              "      <td>178</td>\n",
              "      <td>7:53</td>\n",
              "      <td>4:54</td>\n",
              "      <td>0.90</td>\n",
              "      <td>0,39,19</td>\n",
              "      <td>0:41:02</td>\n",
              "      <td>2020-06-28</td>\n",
              "      <td>2359.0</td>\n",
              "      <td>39.316667</td>\n",
              "      <td>7.883333</td>\n",
              "      <td>8.698601</td>\n",
              "      <td>4.884365</td>\n",
              "    </tr>\n",
              "    <tr>\n",
              "      <th>196</th>\n",
              "      <td>Running</td>\n",
              "      <td>2021-04-17 06:03:00</td>\n",
              "      <td>5.05</td>\n",
              "      <td>300</td>\n",
              "      <td>0:39:47</td>\n",
              "      <td>138.0</td>\n",
              "      <td>241</td>\n",
              "      <td>7:53</td>\n",
              "      <td>4:39</td>\n",
              "      <td>0.92</td>\n",
              "      <td>0,39,31</td>\n",
              "      <td>0:43:14</td>\n",
              "      <td>2021-04-17</td>\n",
              "      <td>2371.0</td>\n",
              "      <td>39.516667</td>\n",
              "      <td>7.883333</td>\n",
              "      <td>7.591733</td>\n",
              "      <td>5.000000</td>\n",
              "    </tr>\n",
              "  </tbody>\n",
              "</table>\n",
              "</div>"
            ],
            "text/plain": [
              "    Activity Type                Date  ...  Calories burned per minute    Rating\n",
              "225       Running 2021-03-23 06:08:00  ...                    6.601279  4.457580\n",
              "245       Running 2020-07-12 05:58:00  ...                    8.542683  4.462516\n",
              "252       Running 2020-06-21 06:11:00  ...                    8.836820  4.492833\n",
              "249       Running 2020-06-28 06:15:00  ...                    8.698601  4.884365\n",
              "196       Running 2021-04-17 06:03:00  ...                    7.591733  5.000000\n",
              "\n",
              "[5 rows x 18 columns]"
            ]
          },
          "metadata": {},
          "execution_count": 40
        }
      ]
    },
    {
      "cell_type": "code",
      "metadata": {
        "colab": {
          "base_uri": "https://localhost:8080/",
          "height": 279
        },
        "id": "_JQLijczyNzp",
        "outputId": "81327152-631f-42ff-8e31-afe17bdaba7b"
      },
      "source": [
        "x = run_data['Just Date']\n",
        "run_data.plot(kind='scatter', x='Just Date', y='Rating', color='red')\n",
        "\n",
        "plt.show()"
      ],
      "execution_count": 42,
      "outputs": [
        {
          "output_type": "display_data",
          "data": {
            "image/png": "[encoded data removed]",
            "text/plain": [
              "<Figure size 432x288 with 1 Axes>"
            ]
          },
          "metadata": {
            "needs_background": "light"
          }
        }
      ]
    }
  ]
}